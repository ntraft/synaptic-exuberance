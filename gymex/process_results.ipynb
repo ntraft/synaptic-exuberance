{
 "cells": [
  {
   "cell_type": "markdown",
   "source": [
    "# Imports"
   ],
   "metadata": {
    "collapsed": false
   }
  },
  {
   "cell_type": "code",
   "execution_count": 2,
   "outputs": [],
   "source": [
    "%load_ext autoreload\n",
    "%autoreload 2"
   ],
   "metadata": {
    "collapsed": false
   }
  },
  {
   "cell_type": "code",
   "execution_count": 3,
   "outputs": [],
   "source": [
    "from pathlib import Path\n",
    "\n",
    "import numpy as np\n",
    "import matplotlib.pyplot as plt\n",
    "%matplotlib inline\n",
    "import pandas as pd\n",
    "import seaborn as sns\n",
    "from tqdm import tqdm\n",
    "\n",
    "sns.set_theme()"
   ],
   "metadata": {
    "collapsed": false
   }
  },
  {
   "cell_type": "markdown",
   "source": [
    "# Data Loading"
   ],
   "metadata": {
    "collapsed": false
   }
  },
  {
   "cell_type": "code",
   "execution_count": 42,
   "outputs": [],
   "source": [
    "\n",
    "def load_all_experiments(experiment_folder=\"./experiments\"):\n",
    "    \"\"\"\n",
    "    Given a folder with a number of experiments, where each experiment has one pickled dataframe, load and return all\n",
    "    dataframes.\n",
    "    \"\"\"\n",
    "    experiment_folder = Path(experiment_folder)\n",
    "    if not experiment_folder.is_dir():\n",
    "        raise ValueError(f\"Not a valid folder: {experiment_folder}\")\n",
    "\n",
    "    all_frames = {}\n",
    "    for d in tqdm(Path(experiment_folder).iterdir(), \"Scanning all experiments\"):\n",
    "        if d.is_dir():\n",
    "            gen_pkl = d / \"generations.pkl\"\n",
    "            if gen_pkl.is_file():\n",
    "                df = pd.read_pickle(gen_pkl)\n",
    "                df[\"experiment\"] = d.name\n",
    "                df.reset_index(inplace=True)\n",
    "                df.set_index([\"experiment\", \"generation\"], inplace=True)\n",
    "                all_frames[d.name] = df\n",
    "    return all_frames\n"
   ],
   "metadata": {
    "collapsed": false
   }
  },
  {
   "cell_type": "code",
   "execution_count": 47,
   "outputs": [
    {
     "name": "stderr",
     "output_type": "stream",
     "text": [
      "Scanning all experiments: 15it [00:00, 944.42it/s]"
     ]
    },
    {
     "name": "stdout",
     "output_type": "stream",
     "text": [
      "Found 2 experiments.\n"
     ]
    },
    {
     "name": "stderr",
     "output_type": "stream",
     "text": [
      "\n"
     ]
    }
   ],
   "source": [
    "experiment_map = load_all_experiments(\".\")\n",
    "print(f\"Found {len(experiment_map)} experiments.\")"
   ],
   "metadata": {
    "collapsed": false
   }
  },
  {
   "cell_type": "markdown",
   "source": [
    "# Collate All Experiments Together"
   ],
   "metadata": {
    "collapsed": false
   }
  },
  {
   "cell_type": "code",
   "execution_count": 49,
   "outputs": [],
   "source": [
    "experiments = pd.concat(experiment_map.values())"
   ],
   "metadata": {
    "collapsed": false
   }
  },
  {
   "cell_type": "markdown",
   "source": [
    "# Analysis"
   ],
   "metadata": {
    "collapsed": false
   }
  },
  {
   "cell_type": "code",
   "execution_count": 79,
   "outputs": [
    {
     "data": {
      "text/plain": "experiment\nconfigs    75.857240\nresults   -51.081411\nName: fitness.max, dtype: float64"
     },
     "execution_count": 79,
     "metadata": {},
     "output_type": "execute_result"
    }
   ],
   "source": [
    "experiments.groupby(\"experiment\").max(\"fitness.max\")[\"fitness.max\"].sort_values(ascending=False)\n",
    "\n",
    "# TODO: Get last value from each group."
   ],
   "metadata": {
    "collapsed": false
   }
  },
  {
   "cell_type": "code",
   "execution_count": 80,
   "outputs": [
    {
     "data": {
      "text/plain": "experiment\nconfigs   -109.117827\nresults   -111.885640\nName: fitness.mean, dtype: float64"
     },
     "execution_count": 80,
     "metadata": {},
     "output_type": "execute_result"
    }
   ],
   "source": [
    "experiments.groupby(\"experiment\").max(\"fitness.mean\")[\"fitness.mean\"].sort_values(ascending=False)"
   ],
   "metadata": {
    "collapsed": false
   }
  },
  {
   "cell_type": "code",
   "execution_count": null,
   "outputs": [],
   "source": [],
   "metadata": {
    "collapsed": false
   }
  }
 ],
 "metadata": {
  "kernelspec": {
   "display_name": "Python 3",
   "language": "python",
   "name": "python3"
  },
  "language_info": {
   "codemirror_mode": {
    "name": "ipython",
    "version": 2
   },
   "file_extension": ".py",
   "mimetype": "text/x-python",
   "name": "python",
   "nbconvert_exporter": "python",
   "pygments_lexer": "ipython2",
   "version": "2.7.6"
  }
 },
 "nbformat": 4,
 "nbformat_minor": 0
}
