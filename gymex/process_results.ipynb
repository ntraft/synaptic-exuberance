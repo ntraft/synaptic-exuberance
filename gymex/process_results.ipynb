{
 "cells": [
  {
   "cell_type": "markdown",
   "source": [
    "# Imports"
   ],
   "metadata": {
    "collapsed": false
   }
  },
  {
   "cell_type": "code",
   "execution_count": 2,
   "outputs": [],
   "source": [
    "%load_ext autoreload\n",
    "%autoreload 2"
   ],
   "metadata": {
    "collapsed": false
   }
  },
  {
   "cell_type": "code",
   "execution_count": 3,
   "outputs": [],
   "source": [
    "from pathlib import Path\n",
    "\n",
    "import numpy as np\n",
    "import matplotlib.pyplot as plt\n",
    "%matplotlib inline\n",
    "import pandas as pd\n",
    "import seaborn as sns\n",
    "from tqdm import tqdm\n",
    "\n",
    "sns.set_theme()"
   ],
   "metadata": {
    "collapsed": false
   }
  },
  {
   "cell_type": "markdown",
   "source": [
    "# Data Loading"
   ],
   "metadata": {
    "collapsed": false
   }
  },
  {
   "cell_type": "code",
   "execution_count": 120,
   "outputs": [],
   "source": [
    "\n",
    "def load_all_experiments(experiment_folder=\"./experiments\"):\n",
    "    \"\"\"\n",
    "    Given a folder with a number of experiments, where each experiment has one pickled dataframe, load and return all\n",
    "    dataframes.\n",
    "\n",
    "    \"\"\"\n",
    "    # TODO: Read from configs, too, and insert these values as metadata.\n",
    "    experiment_folder = Path(experiment_folder)\n",
    "    if not experiment_folder.is_dir():\n",
    "        raise ValueError(f\"Not a valid folder: {experiment_folder}\")\n",
    "\n",
    "    all_frames = {}\n",
    "    for d in tqdm(Path(experiment_folder).iterdir(), \"Scanning all experiments\"):\n",
    "        if d.is_dir():\n",
    "            gen_pkl = d / \"generations.pkl\"\n",
    "            if gen_pkl.is_file():\n",
    "                df = pd.read_pickle(gen_pkl)\n",
    "                df[\"experiment\"] = d.name\n",
    "                prev_index = df.index.names\n",
    "                df.reset_index(inplace=True)\n",
    "                df.set_index([\"experiment\"] + prev_index, inplace=True)\n",
    "                all_frames[d.name] = df\n",
    "    return all_frames\n"
   ],
   "metadata": {
    "collapsed": false
   }
  },
  {
   "cell_type": "code",
   "execution_count": 121,
   "outputs": [
    {
     "name": "stderr",
     "output_type": "stream",
     "text": [
      "Scanning all experiments: 16it [00:00, 335.86it/s]"
     ]
    },
    {
     "name": "stdout",
     "output_type": "stream",
     "text": [
      "Found 4 experiments.\n"
     ]
    },
    {
     "name": "stderr",
     "output_type": "stream",
     "text": [
      "\n"
     ]
    }
   ],
   "source": [
    "experiment_map = load_all_experiments(\".\")\n",
    "print(f\"Found {len(experiment_map)} experiments.\")"
   ],
   "metadata": {
    "collapsed": false
   }
  },
  {
   "cell_type": "markdown",
   "source": [
    "# Collate All Experiments Together"
   ],
   "metadata": {
    "collapsed": false
   }
  },
  {
   "cell_type": "code",
   "execution_count": 122,
   "outputs": [],
   "source": [
    "experiments = pd.concat(experiment_map.values())"
   ],
   "metadata": {
    "collapsed": false
   }
  },
  {
   "cell_type": "markdown",
   "source": [
    "# Analysis"
   ],
   "metadata": {
    "collapsed": false
   }
  },
  {
   "cell_type": "code",
   "execution_count": 123,
   "outputs": [
    {
     "data": {
      "text/plain": "experiment\nresults          -51.081411\nwalker-results   -61.490485\nconfigs          -69.583416\ntmp-results      -74.867792\nName: fitness.max, dtype: float64"
     },
     "execution_count": 123,
     "metadata": {},
     "output_type": "execute_result"
    }
   ],
   "source": [
    "experiments.groupby(\"experiment\").max(\"fitness.max\")[\"fitness.max\"].sort_values(ascending=False)\n",
    "\n",
    "# TODO: Get last value from each group."
   ],
   "metadata": {
    "collapsed": false
   }
  },
  {
   "cell_type": "code",
   "execution_count": 124,
   "outputs": [
    {
     "data": {
      "text/plain": "experiment\nwalker-results   -110.689895\nresults          -111.885640\ntmp-results      -111.919092\nconfigs          -122.726930\nName: fitness.mean, dtype: float64"
     },
     "execution_count": 124,
     "metadata": {},
     "output_type": "execute_result"
    }
   ],
   "source": [
    "experiments.groupby(\"experiment\").max(\"fitness.mean\")[\"fitness.mean\"].sort_values(ascending=False)"
   ],
   "metadata": {
    "collapsed": false
   }
  },
  {
   "cell_type": "markdown",
   "source": [
    "# Scratch Area"
   ],
   "metadata": {
    "collapsed": false
   }
  },
  {
   "cell_type": "code",
   "execution_count": 125,
   "outputs": [
    {
     "data": {
      "text/plain": "                                  num_species  best_genome  conn_add_prob  \\\nexperiment     generation newcol                                            \ntmp-results    1          5.4             5.0        105.0            0.1   \n               2          5.4             5.0        244.0            0.1   \n               3          5.4             7.0        105.0            0.1   \n               4          5.4             7.0        105.0            0.1   \n               5          5.4             7.0        622.0            0.1   \nresults        0          5.4             NaN          NaN            NaN   \n               1          5.4             NaN          NaN            NaN   \n               2          5.4             NaN          NaN            NaN   \n               3          5.4             NaN          NaN            NaN   \n               4          5.4             NaN          NaN            NaN   \nconfigs        1          5.4             5.0          3.0            NaN   \nwalker-results 1          5.4             5.0         14.0            0.9   \n               2          5.4             5.0        240.0            0.9   \n               3          5.4             6.0        335.0            0.9   \n               4          5.4             6.0        335.0            0.9   \n               5          5.4             8.0        335.0            0.9   \n               6          5.4             8.0        335.0            0.9   \n               7          5.4             9.0        335.0            0.9   \n               8          5.4             9.0       1108.0            0.9   \n\n                                  conn_delete_prob  node_add_prob  \\\nexperiment     generation newcol                                    \ntmp-results    1          5.4                  0.1            0.1   \n               2          5.4                  0.1            0.1   \n               3          5.4                  0.1            0.1   \n               4          5.4                  0.1            0.1   \n               5          5.4                  0.1            0.1   \nresults        0          5.4                  NaN            NaN   \n               1          5.4                  NaN            NaN   \n               2          5.4                  NaN            NaN   \n               3          5.4                  NaN            NaN   \n               4          5.4                  NaN            NaN   \nconfigs        1          5.4                  NaN            NaN   \nwalker-results 1          5.4                  0.1            0.9   \n               2          5.4                  0.1            0.9   \n               3          5.4                  0.1            0.9   \n               4          5.4                  0.1            0.9   \n               5          5.4                  0.1            0.9   \n               6          5.4                  0.1            0.9   \n               7          5.4                  0.1            0.9   \n               8          5.4                  0.1            0.9   \n\n                                  node_delete_prob  fitness.count  \\\nexperiment     generation newcol                                    \ntmp-results    1          5.4                  0.1          150.0   \n               2          5.4                  0.1          150.0   \n               3          5.4                  0.1          150.0   \n               4          5.4                  0.1          151.0   \n               5          5.4                  0.1          150.0   \nresults        0          5.4                  NaN          150.0   \n               1          5.4                  NaN          151.0   \n               2          5.4                  NaN          151.0   \n               3          5.4                  NaN          152.0   \n               4          5.4                  NaN          152.0   \nconfigs        1          5.4                  NaN          150.0   \nwalker-results 1          5.4                  0.1          150.0   \n               2          5.4                  0.1          150.0   \n               3          5.4                  0.1          150.0   \n               4          5.4                  0.1          150.0   \n               5          5.4                  0.1          151.0   \n               6          5.4                  0.1          151.0   \n               7          5.4                  0.1          150.0   \n               8          5.4                  0.1          150.0   \n\n                                  fitness.mean  fitness.std  fitness.min  ...  \\\nexperiment     generation newcol                                          ...   \ntmp-results    1          5.4      -126.644436    22.253123  -189.419339  ...   \n               2          5.4      -114.993664    18.310690  -182.480804  ...   \n               3          5.4      -111.919092    15.853113  -180.778454  ...   \n               4          5.4      -115.480293    20.399394  -180.669839  ...   \n               5          5.4      -114.542033    21.795910  -187.412250  ...   \nresults        0          5.4      -124.877402    25.154211  -209.791587  ...   \n               1          5.4      -117.279166    21.422543  -187.874214  ...   \n               2          5.4      -114.933896    21.538975  -180.894673  ...   \n               3          5.4      -111.885640    17.755780  -182.231993  ...   \n               4          5.4      -113.792162    24.119416  -214.647372  ...   \nconfigs        1          5.4      -122.726930    23.259642  -188.922523  ...   \nwalker-results 1          5.4      -124.647685    23.094247  -186.036262  ...   \n               2          5.4      -119.206723    24.689654  -202.023119  ...   \n               3          5.4      -113.490802    20.800150  -184.157780  ...   \n               4          5.4      -114.290734    19.740968  -177.353710  ...   \n               5          5.4      -113.717982    18.841408  -191.930922  ...   \n               6          5.4      -112.109392    18.531939  -181.980247  ...   \n               7          5.4      -112.031252    20.265311  -182.950287  ...   \n               8          5.4      -110.689895    19.088603  -182.702122  ...   \n\n                                  fitness.max  node.mean  node.std  node.min  \\\nexperiment     generation newcol                                               \ntmp-results    1          5.4      -81.058603   4.000000  0.000000       4.0   \n               2          5.4      -94.891764   4.086667  0.281346       4.0   \n               3          5.4      -81.134730   4.186667  0.389644       4.0   \n               4          5.4      -80.206904   4.125828  0.331655       4.0   \n               5          5.4      -74.867792   4.146667  0.372141       4.0   \nresults        0          5.4      -52.910414        NaN       NaN       NaN   \n               1          5.4      -82.541023        NaN       NaN       NaN   \n               2          5.4      -59.028818        NaN       NaN       NaN   \n               3          5.4      -78.231757        NaN       NaN       NaN   \n               4          5.4      -51.081411        NaN       NaN       NaN   \nconfigs        1          5.4      -69.583416        NaN       NaN       NaN   \nwalker-results 1          5.4      -84.020963   4.000000  0.000000       4.0   \n               2          5.4      -75.332223   4.773333  0.418675       4.0   \n               3          5.4      -65.429451   5.420000  0.645704       4.0   \n               4          5.4      -69.335176   6.000000  0.683130       4.0   \n               5          5.4      -72.905061   6.443709  0.760235       4.0   \n               6          5.4      -72.642264   6.874172  0.951156       4.0   \n               7          5.4      -69.471667   7.360000  1.091055       4.0   \n               8          5.4      -61.490485   7.493333  1.164741       4.0   \n\n                                  node.max  conn.mean  conn.std  conn.min  \\\nexperiment     generation newcol                                            \ntmp-results    1          5.4          4.0  48.000000  0.000000      48.0   \n               2          5.4          5.0  47.906667  0.603840      45.0   \n               3          5.4          5.0  47.820000  0.748955      46.0   \n               4          5.4          5.0  47.761589  0.988065      45.0   \n               5          5.4          6.0  47.426667  1.190779      44.0   \nresults        0          5.4          NaN        NaN       NaN       NaN   \n               1          5.4          NaN        NaN       NaN       NaN   \n               2          5.4          NaN        NaN       NaN       NaN   \n               3          5.4          NaN        NaN       NaN       NaN   \n               4          5.4          NaN        NaN       NaN       NaN   \nconfigs        1          5.4          NaN        NaN       NaN       NaN   \nwalker-results 1          5.4          4.0  48.000000  0.000000      48.0   \n               2          5.4          5.0  48.906667  0.961573      47.0   \n               3          5.4          6.0  49.640000  1.429592      45.0   \n               4          5.4          7.0  50.166667  1.658982      46.0   \n               5          5.4          8.0  50.536424  1.844178      45.0   \n               6          5.4          9.0  50.966887  2.172731      44.0   \n               7          5.4         10.0  51.080000  2.502052      45.0   \n               8          5.4         10.0  51.046667  2.772091      44.0   \n\n                                  conn.max  anothercol  \nexperiment     generation newcol                        \ntmp-results    1          5.4         48.0          18  \n               2          5.4         49.0          17  \n               3          5.4         50.0          16  \n               4          5.4         51.0          15  \n               5          5.4         50.0          14  \nresults        0          5.4          NaN          13  \n               1          5.4          NaN          12  \n               2          5.4          NaN          11  \n               3          5.4          NaN          10  \n               4          5.4          NaN           9  \nconfigs        1          5.4          NaN           8  \nwalker-results 1          5.4         48.0           7  \n               2          5.4         51.0           6  \n               3          5.4         53.0           5  \n               4          5.4         54.0           4  \n               5          5.4         56.0           3  \n               6          5.4         56.0           2  \n               7          5.4         57.0           1  \n               8          5.4         58.0           0  \n\n[19 rows x 23 columns]",
      "text/html": "<div>\n<style scoped>\n    .dataframe tbody tr th:only-of-type {\n        vertical-align: middle;\n    }\n\n    .dataframe tbody tr th {\n        vertical-align: top;\n    }\n\n    .dataframe thead th {\n        text-align: right;\n    }\n</style>\n<table border=\"1\" class=\"dataframe\">\n  <thead>\n    <tr style=\"text-align: right;\">\n      <th></th>\n      <th></th>\n      <th></th>\n      <th>num_species</th>\n      <th>best_genome</th>\n      <th>conn_add_prob</th>\n      <th>conn_delete_prob</th>\n      <th>node_add_prob</th>\n      <th>node_delete_prob</th>\n      <th>fitness.count</th>\n      <th>fitness.mean</th>\n      <th>fitness.std</th>\n      <th>fitness.min</th>\n      <th>...</th>\n      <th>fitness.max</th>\n      <th>node.mean</th>\n      <th>node.std</th>\n      <th>node.min</th>\n      <th>node.max</th>\n      <th>conn.mean</th>\n      <th>conn.std</th>\n      <th>conn.min</th>\n      <th>conn.max</th>\n      <th>anothercol</th>\n    </tr>\n    <tr>\n      <th>experiment</th>\n      <th>generation</th>\n      <th>newcol</th>\n      <th></th>\n      <th></th>\n      <th></th>\n      <th></th>\n      <th></th>\n      <th></th>\n      <th></th>\n      <th></th>\n      <th></th>\n      <th></th>\n      <th></th>\n      <th></th>\n      <th></th>\n      <th></th>\n      <th></th>\n      <th></th>\n      <th></th>\n      <th></th>\n      <th></th>\n      <th></th>\n      <th></th>\n    </tr>\n  </thead>\n  <tbody>\n    <tr>\n      <th rowspan=\"5\" valign=\"top\">tmp-results</th>\n      <th>1</th>\n      <th>5.4</th>\n      <td>5.0</td>\n      <td>105.0</td>\n      <td>0.1</td>\n      <td>0.1</td>\n      <td>0.1</td>\n      <td>0.1</td>\n      <td>150.0</td>\n      <td>-126.644436</td>\n      <td>22.253123</td>\n      <td>-189.419339</td>\n      <td>...</td>\n      <td>-81.058603</td>\n      <td>4.000000</td>\n      <td>0.000000</td>\n      <td>4.0</td>\n      <td>4.0</td>\n      <td>48.000000</td>\n      <td>0.000000</td>\n      <td>48.0</td>\n      <td>48.0</td>\n      <td>18</td>\n    </tr>\n    <tr>\n      <th>2</th>\n      <th>5.4</th>\n      <td>5.0</td>\n      <td>244.0</td>\n      <td>0.1</td>\n      <td>0.1</td>\n      <td>0.1</td>\n      <td>0.1</td>\n      <td>150.0</td>\n      <td>-114.993664</td>\n      <td>18.310690</td>\n      <td>-182.480804</td>\n      <td>...</td>\n      <td>-94.891764</td>\n      <td>4.086667</td>\n      <td>0.281346</td>\n      <td>4.0</td>\n      <td>5.0</td>\n      <td>47.906667</td>\n      <td>0.603840</td>\n      <td>45.0</td>\n      <td>49.0</td>\n      <td>17</td>\n    </tr>\n    <tr>\n      <th>3</th>\n      <th>5.4</th>\n      <td>7.0</td>\n      <td>105.0</td>\n      <td>0.1</td>\n      <td>0.1</td>\n      <td>0.1</td>\n      <td>0.1</td>\n      <td>150.0</td>\n      <td>-111.919092</td>\n      <td>15.853113</td>\n      <td>-180.778454</td>\n      <td>...</td>\n      <td>-81.134730</td>\n      <td>4.186667</td>\n      <td>0.389644</td>\n      <td>4.0</td>\n      <td>5.0</td>\n      <td>47.820000</td>\n      <td>0.748955</td>\n      <td>46.0</td>\n      <td>50.0</td>\n      <td>16</td>\n    </tr>\n    <tr>\n      <th>4</th>\n      <th>5.4</th>\n      <td>7.0</td>\n      <td>105.0</td>\n      <td>0.1</td>\n      <td>0.1</td>\n      <td>0.1</td>\n      <td>0.1</td>\n      <td>151.0</td>\n      <td>-115.480293</td>\n      <td>20.399394</td>\n      <td>-180.669839</td>\n      <td>...</td>\n      <td>-80.206904</td>\n      <td>4.125828</td>\n      <td>0.331655</td>\n      <td>4.0</td>\n      <td>5.0</td>\n      <td>47.761589</td>\n      <td>0.988065</td>\n      <td>45.0</td>\n      <td>51.0</td>\n      <td>15</td>\n    </tr>\n    <tr>\n      <th>5</th>\n      <th>5.4</th>\n      <td>7.0</td>\n      <td>622.0</td>\n      <td>0.1</td>\n      <td>0.1</td>\n      <td>0.1</td>\n      <td>0.1</td>\n      <td>150.0</td>\n      <td>-114.542033</td>\n      <td>21.795910</td>\n      <td>-187.412250</td>\n      <td>...</td>\n      <td>-74.867792</td>\n      <td>4.146667</td>\n      <td>0.372141</td>\n      <td>4.0</td>\n      <td>6.0</td>\n      <td>47.426667</td>\n      <td>1.190779</td>\n      <td>44.0</td>\n      <td>50.0</td>\n      <td>14</td>\n    </tr>\n    <tr>\n      <th rowspan=\"5\" valign=\"top\">results</th>\n      <th>0</th>\n      <th>5.4</th>\n      <td>NaN</td>\n      <td>NaN</td>\n      <td>NaN</td>\n      <td>NaN</td>\n      <td>NaN</td>\n      <td>NaN</td>\n      <td>150.0</td>\n      <td>-124.877402</td>\n      <td>25.154211</td>\n      <td>-209.791587</td>\n      <td>...</td>\n      <td>-52.910414</td>\n      <td>NaN</td>\n      <td>NaN</td>\n      <td>NaN</td>\n      <td>NaN</td>\n      <td>NaN</td>\n      <td>NaN</td>\n      <td>NaN</td>\n      <td>NaN</td>\n      <td>13</td>\n    </tr>\n    <tr>\n      <th>1</th>\n      <th>5.4</th>\n      <td>NaN</td>\n      <td>NaN</td>\n      <td>NaN</td>\n      <td>NaN</td>\n      <td>NaN</td>\n      <td>NaN</td>\n      <td>151.0</td>\n      <td>-117.279166</td>\n      <td>21.422543</td>\n      <td>-187.874214</td>\n      <td>...</td>\n      <td>-82.541023</td>\n      <td>NaN</td>\n      <td>NaN</td>\n      <td>NaN</td>\n      <td>NaN</td>\n      <td>NaN</td>\n      <td>NaN</td>\n      <td>NaN</td>\n      <td>NaN</td>\n      <td>12</td>\n    </tr>\n    <tr>\n      <th>2</th>\n      <th>5.4</th>\n      <td>NaN</td>\n      <td>NaN</td>\n      <td>NaN</td>\n      <td>NaN</td>\n      <td>NaN</td>\n      <td>NaN</td>\n      <td>151.0</td>\n      <td>-114.933896</td>\n      <td>21.538975</td>\n      <td>-180.894673</td>\n      <td>...</td>\n      <td>-59.028818</td>\n      <td>NaN</td>\n      <td>NaN</td>\n      <td>NaN</td>\n      <td>NaN</td>\n      <td>NaN</td>\n      <td>NaN</td>\n      <td>NaN</td>\n      <td>NaN</td>\n      <td>11</td>\n    </tr>\n    <tr>\n      <th>3</th>\n      <th>5.4</th>\n      <td>NaN</td>\n      <td>NaN</td>\n      <td>NaN</td>\n      <td>NaN</td>\n      <td>NaN</td>\n      <td>NaN</td>\n      <td>152.0</td>\n      <td>-111.885640</td>\n      <td>17.755780</td>\n      <td>-182.231993</td>\n      <td>...</td>\n      <td>-78.231757</td>\n      <td>NaN</td>\n      <td>NaN</td>\n      <td>NaN</td>\n      <td>NaN</td>\n      <td>NaN</td>\n      <td>NaN</td>\n      <td>NaN</td>\n      <td>NaN</td>\n      <td>10</td>\n    </tr>\n    <tr>\n      <th>4</th>\n      <th>5.4</th>\n      <td>NaN</td>\n      <td>NaN</td>\n      <td>NaN</td>\n      <td>NaN</td>\n      <td>NaN</td>\n      <td>NaN</td>\n      <td>152.0</td>\n      <td>-113.792162</td>\n      <td>24.119416</td>\n      <td>-214.647372</td>\n      <td>...</td>\n      <td>-51.081411</td>\n      <td>NaN</td>\n      <td>NaN</td>\n      <td>NaN</td>\n      <td>NaN</td>\n      <td>NaN</td>\n      <td>NaN</td>\n      <td>NaN</td>\n      <td>NaN</td>\n      <td>9</td>\n    </tr>\n    <tr>\n      <th>configs</th>\n      <th>1</th>\n      <th>5.4</th>\n      <td>5.0</td>\n      <td>3.0</td>\n      <td>NaN</td>\n      <td>NaN</td>\n      <td>NaN</td>\n      <td>NaN</td>\n      <td>150.0</td>\n      <td>-122.726930</td>\n      <td>23.259642</td>\n      <td>-188.922523</td>\n      <td>...</td>\n      <td>-69.583416</td>\n      <td>NaN</td>\n      <td>NaN</td>\n      <td>NaN</td>\n      <td>NaN</td>\n      <td>NaN</td>\n      <td>NaN</td>\n      <td>NaN</td>\n      <td>NaN</td>\n      <td>8</td>\n    </tr>\n    <tr>\n      <th rowspan=\"8\" valign=\"top\">walker-results</th>\n      <th>1</th>\n      <th>5.4</th>\n      <td>5.0</td>\n      <td>14.0</td>\n      <td>0.9</td>\n      <td>0.1</td>\n      <td>0.9</td>\n      <td>0.1</td>\n      <td>150.0</td>\n      <td>-124.647685</td>\n      <td>23.094247</td>\n      <td>-186.036262</td>\n      <td>...</td>\n      <td>-84.020963</td>\n      <td>4.000000</td>\n      <td>0.000000</td>\n      <td>4.0</td>\n      <td>4.0</td>\n      <td>48.000000</td>\n      <td>0.000000</td>\n      <td>48.0</td>\n      <td>48.0</td>\n      <td>7</td>\n    </tr>\n    <tr>\n      <th>2</th>\n      <th>5.4</th>\n      <td>5.0</td>\n      <td>240.0</td>\n      <td>0.9</td>\n      <td>0.1</td>\n      <td>0.9</td>\n      <td>0.1</td>\n      <td>150.0</td>\n      <td>-119.206723</td>\n      <td>24.689654</td>\n      <td>-202.023119</td>\n      <td>...</td>\n      <td>-75.332223</td>\n      <td>4.773333</td>\n      <td>0.418675</td>\n      <td>4.0</td>\n      <td>5.0</td>\n      <td>48.906667</td>\n      <td>0.961573</td>\n      <td>47.0</td>\n      <td>51.0</td>\n      <td>6</td>\n    </tr>\n    <tr>\n      <th>3</th>\n      <th>5.4</th>\n      <td>6.0</td>\n      <td>335.0</td>\n      <td>0.9</td>\n      <td>0.1</td>\n      <td>0.9</td>\n      <td>0.1</td>\n      <td>150.0</td>\n      <td>-113.490802</td>\n      <td>20.800150</td>\n      <td>-184.157780</td>\n      <td>...</td>\n      <td>-65.429451</td>\n      <td>5.420000</td>\n      <td>0.645704</td>\n      <td>4.0</td>\n      <td>6.0</td>\n      <td>49.640000</td>\n      <td>1.429592</td>\n      <td>45.0</td>\n      <td>53.0</td>\n      <td>5</td>\n    </tr>\n    <tr>\n      <th>4</th>\n      <th>5.4</th>\n      <td>6.0</td>\n      <td>335.0</td>\n      <td>0.9</td>\n      <td>0.1</td>\n      <td>0.9</td>\n      <td>0.1</td>\n      <td>150.0</td>\n      <td>-114.290734</td>\n      <td>19.740968</td>\n      <td>-177.353710</td>\n      <td>...</td>\n      <td>-69.335176</td>\n      <td>6.000000</td>\n      <td>0.683130</td>\n      <td>4.0</td>\n      <td>7.0</td>\n      <td>50.166667</td>\n      <td>1.658982</td>\n      <td>46.0</td>\n      <td>54.0</td>\n      <td>4</td>\n    </tr>\n    <tr>\n      <th>5</th>\n      <th>5.4</th>\n      <td>8.0</td>\n      <td>335.0</td>\n      <td>0.9</td>\n      <td>0.1</td>\n      <td>0.9</td>\n      <td>0.1</td>\n      <td>151.0</td>\n      <td>-113.717982</td>\n      <td>18.841408</td>\n      <td>-191.930922</td>\n      <td>...</td>\n      <td>-72.905061</td>\n      <td>6.443709</td>\n      <td>0.760235</td>\n      <td>4.0</td>\n      <td>8.0</td>\n      <td>50.536424</td>\n      <td>1.844178</td>\n      <td>45.0</td>\n      <td>56.0</td>\n      <td>3</td>\n    </tr>\n    <tr>\n      <th>6</th>\n      <th>5.4</th>\n      <td>8.0</td>\n      <td>335.0</td>\n      <td>0.9</td>\n      <td>0.1</td>\n      <td>0.9</td>\n      <td>0.1</td>\n      <td>151.0</td>\n      <td>-112.109392</td>\n      <td>18.531939</td>\n      <td>-181.980247</td>\n      <td>...</td>\n      <td>-72.642264</td>\n      <td>6.874172</td>\n      <td>0.951156</td>\n      <td>4.0</td>\n      <td>9.0</td>\n      <td>50.966887</td>\n      <td>2.172731</td>\n      <td>44.0</td>\n      <td>56.0</td>\n      <td>2</td>\n    </tr>\n    <tr>\n      <th>7</th>\n      <th>5.4</th>\n      <td>9.0</td>\n      <td>335.0</td>\n      <td>0.9</td>\n      <td>0.1</td>\n      <td>0.9</td>\n      <td>0.1</td>\n      <td>150.0</td>\n      <td>-112.031252</td>\n      <td>20.265311</td>\n      <td>-182.950287</td>\n      <td>...</td>\n      <td>-69.471667</td>\n      <td>7.360000</td>\n      <td>1.091055</td>\n      <td>4.0</td>\n      <td>10.0</td>\n      <td>51.080000</td>\n      <td>2.502052</td>\n      <td>45.0</td>\n      <td>57.0</td>\n      <td>1</td>\n    </tr>\n    <tr>\n      <th>8</th>\n      <th>5.4</th>\n      <td>9.0</td>\n      <td>1108.0</td>\n      <td>0.9</td>\n      <td>0.1</td>\n      <td>0.9</td>\n      <td>0.1</td>\n      <td>150.0</td>\n      <td>-110.689895</td>\n      <td>19.088603</td>\n      <td>-182.702122</td>\n      <td>...</td>\n      <td>-61.490485</td>\n      <td>7.493333</td>\n      <td>1.164741</td>\n      <td>4.0</td>\n      <td>10.0</td>\n      <td>51.046667</td>\n      <td>2.772091</td>\n      <td>44.0</td>\n      <td>58.0</td>\n      <td>0</td>\n    </tr>\n  </tbody>\n</table>\n<p>19 rows × 23 columns</p>\n</div>"
     },
     "execution_count": 125,
     "metadata": {},
     "output_type": "execute_result"
    }
   ],
   "source": [
    "experiments[\"newcol\"] = 5.4\n",
    "experiments[\"anothercol\"] = list(reversed(range(len(experiments))))\n",
    "exp2 = experiments.set_index([\"newcol\"], append=True)\n",
    "exp2"
   ],
   "metadata": {
    "collapsed": false
   }
  },
  {
   "cell_type": "code",
   "execution_count": 126,
   "outputs": [
    {
     "data": {
      "text/plain": "FrozenList(['experiment', 'generation', 'newcol'])"
     },
     "execution_count": 126,
     "metadata": {},
     "output_type": "execute_result"
    }
   ],
   "source": [
    "exp2.index.names"
   ],
   "metadata": {
    "collapsed": false
   }
  }
 ],
 "metadata": {
  "kernelspec": {
   "display_name": "Python 3",
   "language": "python",
   "name": "python3"
  },
  "language_info": {
   "codemirror_mode": {
    "name": "ipython",
    "version": 2
   },
   "file_extension": ".py",
   "mimetype": "text/x-python",
   "name": "python",
   "nbconvert_exporter": "python",
   "pygments_lexer": "ipython2",
   "version": "2.7.6"
  }
 },
 "nbformat": 4,
 "nbformat_minor": 0
}
