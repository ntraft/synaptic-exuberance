{
 "cells": [
  {
   "cell_type": "markdown",
   "source": [
    "# Imports"
   ],
   "metadata": {
    "collapsed": false
   }
  },
  {
   "cell_type": "code",
   "execution_count": 2,
   "outputs": [],
   "source": [
    "%load_ext autoreload\n",
    "%autoreload 2"
   ],
   "metadata": {
    "collapsed": false
   }
  },
  {
   "cell_type": "code",
   "execution_count": 3,
   "outputs": [],
   "source": [
    "from pathlib import Path\n",
    "\n",
    "import numpy as np\n",
    "import matplotlib.pyplot as plt\n",
    "%matplotlib inline\n",
    "import pandas as pd\n",
    "import seaborn as sns\n",
    "from tqdm import tqdm\n",
    "\n",
    "sns.set_theme()"
   ],
   "metadata": {
    "collapsed": false
   }
  },
  {
   "cell_type": "markdown",
   "source": [
    "# Data Loading"
   ],
   "metadata": {
    "collapsed": false
   }
  },
  {
   "cell_type": "code",
   "execution_count": 89,
   "outputs": [],
   "source": [
    "\n",
    "def load_all_experiments(experiment_folder=\"./experiments\"):\n",
    "    \"\"\"\n",
    "    Given a folder with a number of experiments, where each experiment has one pickled dataframe, load and return all\n",
    "    dataframes.\n",
    "\n",
    "    \"\"\"\n",
    "    # TODO: Read from configs, too, and insert these values as metadata.\n",
    "    experiment_folder = Path(experiment_folder)\n",
    "    if not experiment_folder.is_dir():\n",
    "        raise ValueError(f\"Not a valid folder: {experiment_folder}\")\n",
    "\n",
    "    all_frames = {}\n",
    "    for d in tqdm(Path(experiment_folder).iterdir(), \"Scanning all experiments\"):\n",
    "        if d.is_dir():\n",
    "            gen_pkl = d / \"generations.pkl\"\n",
    "            if gen_pkl.is_file():\n",
    "                df = pd.read_pickle(gen_pkl)\n",
    "                df[\"experiment\"] = d.name\n",
    "                df.reset_index(inplace=True)\n",
    "                df.set_index([\"experiment\", \"generation\"], inplace=True)\n",
    "                all_frames[d.name] = df\n",
    "    return all_frames\n"
   ],
   "metadata": {
    "collapsed": false
   }
  },
  {
   "cell_type": "code",
   "execution_count": 90,
   "outputs": [
    {
     "name": "stderr",
     "output_type": "stream",
     "text": [
      "Scanning all experiments: 15it [00:00, 121.18it/s]"
     ]
    },
    {
     "name": "stdout",
     "output_type": "stream",
     "text": [
      "Found 3 experiments.\n"
     ]
    },
    {
     "name": "stderr",
     "output_type": "stream",
     "text": [
      "\n"
     ]
    }
   ],
   "source": [
    "experiment_map = load_all_experiments(\".\")\n",
    "print(f\"Found {len(experiment_map)} experiments.\")"
   ],
   "metadata": {
    "collapsed": false
   }
  },
  {
   "cell_type": "markdown",
   "source": [
    "# Collate All Experiments Together"
   ],
   "metadata": {
    "collapsed": false
   }
  },
  {
   "cell_type": "code",
   "execution_count": 91,
   "outputs": [],
   "source": [
    "experiments = pd.concat(experiment_map.values())"
   ],
   "metadata": {
    "collapsed": false
   }
  },
  {
   "cell_type": "markdown",
   "source": [
    "# Analysis"
   ],
   "metadata": {
    "collapsed": false
   }
  },
  {
   "cell_type": "code",
   "execution_count": 92,
   "outputs": [
    {
     "data": {
      "text/plain": "experiment\nresults          -51.081411\nwalker-results   -55.514852\nconfigs          -69.583416\nName: fitness.max, dtype: float64"
     },
     "execution_count": 92,
     "metadata": {},
     "output_type": "execute_result"
    }
   ],
   "source": [
    "experiments.groupby(\"experiment\").max(\"fitness.max\")[\"fitness.max\"].sort_values(ascending=False)\n",
    "\n",
    "# TODO: Get last value from each group."
   ],
   "metadata": {
    "collapsed": false
   }
  },
  {
   "cell_type": "code",
   "execution_count": 93,
   "outputs": [
    {
     "data": {
      "text/plain": "experiment\nwalker-results   -108.808989\nresults          -111.885640\nconfigs          -122.726930\nName: fitness.mean, dtype: float64"
     },
     "execution_count": 93,
     "metadata": {},
     "output_type": "execute_result"
    }
   ],
   "source": [
    "experiments.groupby(\"experiment\").max(\"fitness.mean\")[\"fitness.mean\"].sort_values(ascending=False)"
   ],
   "metadata": {
    "collapsed": false
   }
  },
  {
   "cell_type": "markdown",
   "source": [
    "# Scratch Area"
   ],
   "metadata": {
    "collapsed": false
   }
  },
  {
   "cell_type": "code",
   "execution_count": 95,
   "outputs": [
    {
     "data": {
      "text/plain": "                           fitness.count  fitness.mean  fitness.std  \\\nexperiment     generation                                             \nresults        0                   150.0   -124.877402    25.154211   \n               1                   151.0   -117.279166    21.422543   \n               2                   151.0   -114.933896    21.538975   \n               3                   152.0   -111.885640    17.755780   \n               4                   152.0   -113.792162    24.119416   \nconfigs        1                   150.0   -122.726930    23.259642   \nwalker-results 1                   150.0   -121.721226    21.215239   \n               2                   150.0   -115.380356    17.520086   \n               3                   148.0   -111.836555    17.411470   \n               4                   148.0   -108.808989    14.934296   \n               5                   149.0   -109.585065    15.655515   \n               6                   150.0   -109.155845    16.851009   \n               7                   149.0   -109.526462    17.373997   \n\n                           fitness.min  fitness.25%  fitness.50%  fitness.75%  \\\nexperiment     generation                                                       \nresults        0           -209.791587  -134.220001  -118.864534  -106.412060   \n               1           -187.874214  -121.795838  -111.835846  -103.187131   \n               2           -180.894673  -122.774687  -107.178174  -101.852852   \n               3           -182.231993  -120.882477  -105.858516  -100.783116   \n               4           -214.647372  -120.270855  -106.503570  -100.810512   \nconfigs        1           -188.922523  -128.941444  -116.294905  -106.865189   \nwalker-results 1           -185.136302  -128.227340  -115.792540  -106.382408   \n               2           -189.768528  -121.295816  -110.564238  -103.372262   \n               3           -183.297272  -115.357533  -104.790640  -101.637838   \n               4           -180.051850  -114.474214  -103.991142  -101.145534   \n               5           -169.323348  -114.168061  -105.028522  -101.690204   \n               6           -181.786739  -111.747124  -104.009423  -101.418500   \n               7           -188.311283  -112.311823  -103.551781  -101.348690   \n\n                           fitness.max  num_species  best_genome  \\\nexperiment     generation                                          \nresults        0            -52.910414          NaN          NaN   \n               1            -82.541023          NaN          NaN   \n               2            -59.028818          NaN          NaN   \n               3            -78.231757          NaN          NaN   \n               4            -51.081411          NaN          NaN   \nconfigs        1            -69.583416          5.0          3.0   \nwalker-results 1            -84.496842          5.0        114.0   \n               2            -97.507052          6.0        155.0   \n               3            -84.110468          8.0        424.0   \n               4            -57.948254          8.0        445.0   \n               5            -55.514852          8.0        685.0   \n               6            -58.813987          9.0        685.0   \n               7            -60.490745          9.0        685.0   \n\n                           conn_add_prob  conn_delete_prob  node_add_prob  \\\nexperiment     generation                                                   \nresults        0                     NaN               NaN            NaN   \n               1                     NaN               NaN            NaN   \n               2                     NaN               NaN            NaN   \n               3                     NaN               NaN            NaN   \n               4                     NaN               NaN            NaN   \nconfigs        1                     NaN               NaN            NaN   \nwalker-results 1                     0.1               0.1            0.1   \n               2                     0.1               0.1            0.1   \n               3                     0.1               0.1            0.1   \n               4                     0.1               0.1            0.1   \n               5                     0.1               0.1            0.1   \n               6                     0.1               0.1            0.1   \n               7                     0.1               0.1            0.1   \n\n                           node_delete_prob  \nexperiment     generation                    \nresults        0                        NaN  \n               1                        NaN  \n               2                        NaN  \n               3                        NaN  \n               4                        NaN  \nconfigs        1                        NaN  \nwalker-results 1                        0.1  \n               2                        0.1  \n               3                        0.1  \n               4                        0.1  \n               5                        0.1  \n               6                        0.1  \n               7                        0.1  ",
      "text/html": "<div>\n<style scoped>\n    .dataframe tbody tr th:only-of-type {\n        vertical-align: middle;\n    }\n\n    .dataframe tbody tr th {\n        vertical-align: top;\n    }\n\n    .dataframe thead th {\n        text-align: right;\n    }\n</style>\n<table border=\"1\" class=\"dataframe\">\n  <thead>\n    <tr style=\"text-align: right;\">\n      <th></th>\n      <th></th>\n      <th>fitness.count</th>\n      <th>fitness.mean</th>\n      <th>fitness.std</th>\n      <th>fitness.min</th>\n      <th>fitness.25%</th>\n      <th>fitness.50%</th>\n      <th>fitness.75%</th>\n      <th>fitness.max</th>\n      <th>num_species</th>\n      <th>best_genome</th>\n      <th>conn_add_prob</th>\n      <th>conn_delete_prob</th>\n      <th>node_add_prob</th>\n      <th>node_delete_prob</th>\n    </tr>\n    <tr>\n      <th>experiment</th>\n      <th>generation</th>\n      <th></th>\n      <th></th>\n      <th></th>\n      <th></th>\n      <th></th>\n      <th></th>\n      <th></th>\n      <th></th>\n      <th></th>\n      <th></th>\n      <th></th>\n      <th></th>\n      <th></th>\n      <th></th>\n    </tr>\n  </thead>\n  <tbody>\n    <tr>\n      <th rowspan=\"5\" valign=\"top\">results</th>\n      <th>0</th>\n      <td>150.0</td>\n      <td>-124.877402</td>\n      <td>25.154211</td>\n      <td>-209.791587</td>\n      <td>-134.220001</td>\n      <td>-118.864534</td>\n      <td>-106.412060</td>\n      <td>-52.910414</td>\n      <td>NaN</td>\n      <td>NaN</td>\n      <td>NaN</td>\n      <td>NaN</td>\n      <td>NaN</td>\n      <td>NaN</td>\n    </tr>\n    <tr>\n      <th>1</th>\n      <td>151.0</td>\n      <td>-117.279166</td>\n      <td>21.422543</td>\n      <td>-187.874214</td>\n      <td>-121.795838</td>\n      <td>-111.835846</td>\n      <td>-103.187131</td>\n      <td>-82.541023</td>\n      <td>NaN</td>\n      <td>NaN</td>\n      <td>NaN</td>\n      <td>NaN</td>\n      <td>NaN</td>\n      <td>NaN</td>\n    </tr>\n    <tr>\n      <th>2</th>\n      <td>151.0</td>\n      <td>-114.933896</td>\n      <td>21.538975</td>\n      <td>-180.894673</td>\n      <td>-122.774687</td>\n      <td>-107.178174</td>\n      <td>-101.852852</td>\n      <td>-59.028818</td>\n      <td>NaN</td>\n      <td>NaN</td>\n      <td>NaN</td>\n      <td>NaN</td>\n      <td>NaN</td>\n      <td>NaN</td>\n    </tr>\n    <tr>\n      <th>3</th>\n      <td>152.0</td>\n      <td>-111.885640</td>\n      <td>17.755780</td>\n      <td>-182.231993</td>\n      <td>-120.882477</td>\n      <td>-105.858516</td>\n      <td>-100.783116</td>\n      <td>-78.231757</td>\n      <td>NaN</td>\n      <td>NaN</td>\n      <td>NaN</td>\n      <td>NaN</td>\n      <td>NaN</td>\n      <td>NaN</td>\n    </tr>\n    <tr>\n      <th>4</th>\n      <td>152.0</td>\n      <td>-113.792162</td>\n      <td>24.119416</td>\n      <td>-214.647372</td>\n      <td>-120.270855</td>\n      <td>-106.503570</td>\n      <td>-100.810512</td>\n      <td>-51.081411</td>\n      <td>NaN</td>\n      <td>NaN</td>\n      <td>NaN</td>\n      <td>NaN</td>\n      <td>NaN</td>\n      <td>NaN</td>\n    </tr>\n    <tr>\n      <th>configs</th>\n      <th>1</th>\n      <td>150.0</td>\n      <td>-122.726930</td>\n      <td>23.259642</td>\n      <td>-188.922523</td>\n      <td>-128.941444</td>\n      <td>-116.294905</td>\n      <td>-106.865189</td>\n      <td>-69.583416</td>\n      <td>5.0</td>\n      <td>3.0</td>\n      <td>NaN</td>\n      <td>NaN</td>\n      <td>NaN</td>\n      <td>NaN</td>\n    </tr>\n    <tr>\n      <th rowspan=\"7\" valign=\"top\">walker-results</th>\n      <th>1</th>\n      <td>150.0</td>\n      <td>-121.721226</td>\n      <td>21.215239</td>\n      <td>-185.136302</td>\n      <td>-128.227340</td>\n      <td>-115.792540</td>\n      <td>-106.382408</td>\n      <td>-84.496842</td>\n      <td>5.0</td>\n      <td>114.0</td>\n      <td>0.1</td>\n      <td>0.1</td>\n      <td>0.1</td>\n      <td>0.1</td>\n    </tr>\n    <tr>\n      <th>2</th>\n      <td>150.0</td>\n      <td>-115.380356</td>\n      <td>17.520086</td>\n      <td>-189.768528</td>\n      <td>-121.295816</td>\n      <td>-110.564238</td>\n      <td>-103.372262</td>\n      <td>-97.507052</td>\n      <td>6.0</td>\n      <td>155.0</td>\n      <td>0.1</td>\n      <td>0.1</td>\n      <td>0.1</td>\n      <td>0.1</td>\n    </tr>\n    <tr>\n      <th>3</th>\n      <td>148.0</td>\n      <td>-111.836555</td>\n      <td>17.411470</td>\n      <td>-183.297272</td>\n      <td>-115.357533</td>\n      <td>-104.790640</td>\n      <td>-101.637838</td>\n      <td>-84.110468</td>\n      <td>8.0</td>\n      <td>424.0</td>\n      <td>0.1</td>\n      <td>0.1</td>\n      <td>0.1</td>\n      <td>0.1</td>\n    </tr>\n    <tr>\n      <th>4</th>\n      <td>148.0</td>\n      <td>-108.808989</td>\n      <td>14.934296</td>\n      <td>-180.051850</td>\n      <td>-114.474214</td>\n      <td>-103.991142</td>\n      <td>-101.145534</td>\n      <td>-57.948254</td>\n      <td>8.0</td>\n      <td>445.0</td>\n      <td>0.1</td>\n      <td>0.1</td>\n      <td>0.1</td>\n      <td>0.1</td>\n    </tr>\n    <tr>\n      <th>5</th>\n      <td>149.0</td>\n      <td>-109.585065</td>\n      <td>15.655515</td>\n      <td>-169.323348</td>\n      <td>-114.168061</td>\n      <td>-105.028522</td>\n      <td>-101.690204</td>\n      <td>-55.514852</td>\n      <td>8.0</td>\n      <td>685.0</td>\n      <td>0.1</td>\n      <td>0.1</td>\n      <td>0.1</td>\n      <td>0.1</td>\n    </tr>\n    <tr>\n      <th>6</th>\n      <td>150.0</td>\n      <td>-109.155845</td>\n      <td>16.851009</td>\n      <td>-181.786739</td>\n      <td>-111.747124</td>\n      <td>-104.009423</td>\n      <td>-101.418500</td>\n      <td>-58.813987</td>\n      <td>9.0</td>\n      <td>685.0</td>\n      <td>0.1</td>\n      <td>0.1</td>\n      <td>0.1</td>\n      <td>0.1</td>\n    </tr>\n    <tr>\n      <th>7</th>\n      <td>149.0</td>\n      <td>-109.526462</td>\n      <td>17.373997</td>\n      <td>-188.311283</td>\n      <td>-112.311823</td>\n      <td>-103.551781</td>\n      <td>-101.348690</td>\n      <td>-60.490745</td>\n      <td>9.0</td>\n      <td>685.0</td>\n      <td>0.1</td>\n      <td>0.1</td>\n      <td>0.1</td>\n      <td>0.1</td>\n    </tr>\n  </tbody>\n</table>\n</div>"
     },
     "execution_count": 95,
     "metadata": {},
     "output_type": "execute_result"
    }
   ],
   "source": [
    "experiments"
   ],
   "metadata": {
    "collapsed": false
   }
  }
 ],
 "metadata": {
  "kernelspec": {
   "display_name": "Python 3",
   "language": "python",
   "name": "python3"
  },
  "language_info": {
   "codemirror_mode": {
    "name": "ipython",
    "version": 2
   },
   "file_extension": ".py",
   "mimetype": "text/x-python",
   "name": "python",
   "nbconvert_exporter": "python",
   "pygments_lexer": "ipython2",
   "version": "2.7.6"
  }
 },
 "nbformat": 4,
 "nbformat_minor": 0
}
